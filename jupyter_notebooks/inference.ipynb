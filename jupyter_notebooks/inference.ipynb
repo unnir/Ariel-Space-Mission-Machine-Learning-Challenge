{
 "cells": [
  {
   "cell_type": "code",
   "execution_count": 1,
   "metadata": {},
   "outputs": [
    {
     "name": "stderr",
     "output_type": "stream",
     "text": [
      "Using TensorFlow backend.\n",
      "/usr/local/lib/python3.5/dist-packages/sklearn/externals/joblib/__init__.py:15: DeprecationWarning: sklearn.externals.joblib is deprecated in 0.21 and will be removed in 0.23. Please import this functionality directly from joblib, which can be installed with: pip install joblib. If this warning is raised when loading pickled models, you may need to re-serialize those models with scikit-learn 0.21+.\n",
      "  warnings.warn(msg, category=DeprecationWarning)\n"
     ]
    }
   ],
   "source": [
    "import numpy as np\n",
    "import pandas as pd \n",
    "import matplotlib.pyplot as plt\n",
    "plt.style.use(['dark_background'])\n",
    "\n",
    "from keras.layers import Input, Dense, Flatten\n",
    "from keras.models import Model\n",
    "import keras\n",
    "from keras.models import load_model\n",
    "from sklearn.externals import joblib\n",
    "\n",
    "\n",
    "scaler_filename = \"scaler.save\"\n"
   ]
  },
  {
   "cell_type": "code",
   "execution_count": 2,
   "metadata": {},
   "outputs": [],
   "source": [
    "# Load data\n",
    "X_test = np.load('all_test.npy')\n",
    "X_test_head = np.load('all_test_heads.npy')\n",
    "sk2 = joblib.load(scaler_filename) \n",
    "X_test_head = sk2.transform(X_test_head)\n",
    "#"
   ]
  },
  {
   "cell_type": "code",
   "execution_count": 3,
   "metadata": {},
   "outputs": [],
   "source": [
    "X_test = X_test.reshape(-1,55*300)\n",
    "X_test = (X_test-1)*1000\n",
    "X_test = X_test.reshape(-1,55,300)\n"
   ]
  },
  {
   "cell_type": "code",
   "execution_count": null,
   "metadata": {},
   "outputs": [],
   "source": []
  },
  {
   "cell_type": "code",
   "execution_count": 4,
   "metadata": {},
   "outputs": [
    {
     "data": {
      "text/plain": [
       "(62900, 55, 300)"
      ]
     },
     "execution_count": 4,
     "metadata": {},
     "output_type": "execute_result"
    }
   ],
   "source": [
    "X_test.shape"
   ]
  },
  {
   "cell_type": "code",
   "execution_count": 5,
   "metadata": {},
   "outputs": [],
   "source": [
    "files = ['./weights/14_CV_weights_fold_3.h5',\n",
    "'./weights/14_CV_weights_fold_5.h5',\n",
    "# './weights/14_CV_weights_fold_7.h5',\n",
    "# './weights/14_CV_weights_fold_8.h5',\n",
    "# './weights/14_CV_weights_fold_9.h5',\n",
    "\n",
    "#'./weights/15_CV_weights_fold_3.h5',\n",
    "#'./weights/15_CV_weights_fold_5.h5',\n",
    "#'./weights/15_CV_weights_fold_7.h5',\n",
    "'./weights/15_CV_weights_fold_9.h5',\n",
    "\n",
    "#'./weights/16_CV_weights_fold_1.h5',\n",
    "'./weights/16_CV_weights_fold_3.h5',\n",
    "#'./weights/16_CV_weights_fold_5.h5',\n",
    "'./weights/16_CV_weights_fold_7.h5',\n",
    "        \n",
    "'./weights/20_CV_weights_fold_1.h5',\n",
    "'./weights/20_CV_weights_fold_2.h5',\n",
    "         \n",
    "        \n",
    "'./weights/21_CV_weights_fold_7.h5',\n",
    "'./weights/21_CV_weights_fold_8.h5',\n",
    "'./weights/21_CV_weights_fold_5.h5',\n",
    "        ]"
   ]
  },
  {
   "cell_type": "code",
   "execution_count": 6,
   "metadata": {},
   "outputs": [
    {
     "name": "stderr",
     "output_type": "stream",
     "text": [
      "WARNING: Logging before flag parsing goes to stderr.\n",
      "W0808 13:49:49.625879 139998890268416 deprecation_wrapper.py:119] From /usr/local/lib/python3.5/dist-packages/keras/backend/tensorflow_backend.py:517: The name tf.placeholder is deprecated. Please use tf.compat.v1.placeholder instead.\n",
      "\n",
      "W0808 13:49:49.645961 139998890268416 deprecation_wrapper.py:119] From /usr/local/lib/python3.5/dist-packages/keras/backend/tensorflow_backend.py:4138: The name tf.random_uniform is deprecated. Please use tf.random.uniform instead.\n",
      "\n"
     ]
    },
    {
     "name": "stdout",
     "output_type": "stream",
     "text": [
      "FILE:  ./weights/14_CV_weights_fold_3.h5\n"
     ]
    },
    {
     "name": "stderr",
     "output_type": "stream",
     "text": [
      "W0808 13:49:49.886386 139998890268416 deprecation_wrapper.py:119] From /usr/local/lib/python3.5/dist-packages/keras/backend/tensorflow_backend.py:131: The name tf.get_default_graph is deprecated. Please use tf.compat.v1.get_default_graph instead.\n",
      "\n",
      "W0808 13:49:49.887154 139998890268416 deprecation_wrapper.py:119] From /usr/local/lib/python3.5/dist-packages/keras/backend/tensorflow_backend.py:133: The name tf.placeholder_with_default is deprecated. Please use tf.compat.v1.placeholder_with_default instead.\n",
      "\n",
      "W0808 13:49:49.910576 139998890268416 deprecation.py:506] From /usr/local/lib/python3.5/dist-packages/keras/backend/tensorflow_backend.py:3445: calling dropout (from tensorflow.python.ops.nn_ops) with keep_prob is deprecated and will be removed in a future version.\n",
      "Instructions for updating:\n",
      "Please use `rate` instead of `keep_prob`. Rate should be set to `rate = 1 - keep_prob`.\n",
      "W0808 13:49:50.446645 139998890268416 deprecation_wrapper.py:119] From /usr/local/lib/python3.5/dist-packages/keras/backend/tensorflow_backend.py:174: The name tf.get_default_session is deprecated. Please use tf.compat.v1.get_default_session instead.\n",
      "\n",
      "W0808 13:49:51.995197 139998890268416 deprecation_wrapper.py:119] From /usr/local/lib/python3.5/dist-packages/keras/optimizers.py:790: The name tf.train.Optimizer is deprecated. Please use tf.compat.v1.train.Optimizer instead.\n",
      "\n"
     ]
    },
    {
     "name": "stdout",
     "output_type": "stream",
     "text": [
      "FILE:  ./weights/14_CV_weights_fold_5.h5\n",
      "FILE:  ./weights/15_CV_weights_fold_9.h5\n",
      "FILE:  ./weights/16_CV_weights_fold_3.h5\n",
      "FILE:  ./weights/16_CV_weights_fold_7.h5\n",
      "FILE:  ./weights/20_CV_weights_fold_1.h5\n",
      "FILE:  ./weights/20_CV_weights_fold_2.h5\n",
      "FILE:  ./weights/21_CV_weights_fold_7.h5\n",
      "FILE:  ./weights/21_CV_weights_fold_8.h5\n",
      "FILE:  ./weights/21_CV_weights_fold_5.h5\n",
      "Done!\n"
     ]
    }
   ],
   "source": [
    "y_pred = np.zeros((X_test.shape[0], 55))\n",
    "for whts_file in files:    \n",
    "    print(\"FILE: \", whts_file)\n",
    "    model = load_model(whts_file)\n",
    "    y_pred+= model.predict([X_test,X_test_head])\n",
    "y_pred/=len(files)\n",
    "print(\"Done!\")"
   ]
  },
  {
   "cell_type": "code",
   "execution_count": 8,
   "metadata": {},
   "outputs": [],
   "source": [
    "# from scipy.stats.mstats import gmean"
   ]
  },
  {
   "cell_type": "code",
   "execution_count": 7,
   "metadata": {},
   "outputs": [],
   "source": [
    "# y_pred_g = gmean(y_pred, axis=0)"
   ]
  },
  {
   "cell_type": "code",
   "execution_count": null,
   "metadata": {},
   "outputs": [],
   "source": []
  },
  {
   "cell_type": "code",
   "execution_count": null,
   "metadata": {},
   "outputs": [],
   "source": []
  },
  {
   "cell_type": "code",
   "execution_count": 7,
   "metadata": {},
   "outputs": [
    {
     "data": {
      "text/plain": [
       "array([0.02440906, 0.02413466, 0.02550587, 0.02699541, 0.02611915,\n",
       "       0.02824994, 0.02743189, 0.02807198, 0.02823898, 0.02799497,\n",
       "       0.02789945, 0.02775083, 0.02769302, 0.02796322, 0.02861172,\n",
       "       0.02951633, 0.02962845, 0.02984554, 0.03007035, 0.0299284 ,\n",
       "       0.02985725, 0.02999538, 0.02978642, 0.02958915, 0.02929154,\n",
       "       0.02921518, 0.02910897, 0.02931966, 0.02935668, 0.02964018,\n",
       "       0.02973461, 0.03076544, 0.03184042, 0.03236644, 0.0319893 ,\n",
       "       0.03209827, 0.03261211, 0.03177363, 0.03163695, 0.03140738,\n",
       "       0.03078267, 0.03010935, 0.0295754 , 0.02904456, 0.0285091 ,\n",
       "       0.02804202, 0.02776927, 0.02845776, 0.0292103 , 0.02966946,\n",
       "       0.02982722, 0.03005857, 0.03043284, 0.03199106, 0.03239676])"
      ]
     },
     "execution_count": 7,
     "metadata": {},
     "output_type": "execute_result"
    }
   ],
   "source": [
    "y_pred[0]/1000"
   ]
  },
  {
   "cell_type": "code",
   "execution_count": 7,
   "metadata": {},
   "outputs": [
    {
     "data": {
      "text/plain": [
       "array([0.02442153, 0.0241946 , 0.02557162, 0.02701744, 0.02612668,\n",
       "       0.02832622, 0.02748545, 0.02813334, 0.02834504, 0.02802921,\n",
       "       0.0279588 , 0.02780891, 0.02774643, 0.0280027 , 0.0286719 ,\n",
       "       0.02956966, 0.02973087, 0.02994227, 0.03015088, 0.02999325,\n",
       "       0.0299652 , 0.02998825, 0.02984761, 0.02970307, 0.02934561,\n",
       "       0.029299  , 0.02923821, 0.02934352, 0.02943504, 0.02969243,\n",
       "       0.02981913, 0.03080725, 0.03188968, 0.03244645, 0.03202584,\n",
       "       0.03219774, 0.03263061, 0.031815  , 0.03171884, 0.03146355,\n",
       "       0.03085991, 0.03016737, 0.02963396, 0.02910292, 0.02856985,\n",
       "       0.02809562, 0.02784874, 0.02850878, 0.0292275 , 0.02967809,\n",
       "       0.02986728, 0.03016889, 0.03051102, 0.03207331, 0.03246659])"
      ]
     },
     "execution_count": 7,
     "metadata": {},
     "output_type": "execute_result"
    }
   ],
   "source": [
    "y_pred[0]/1000"
   ]
  },
  {
   "cell_type": "code",
   "execution_count": 7,
   "metadata": {},
   "outputs": [
    {
     "data": {
      "text/plain": [
       "array([0.02465564, 0.02440556, 0.02565924, 0.02706732, 0.02618154,\n",
       "       0.02828642, 0.02748028, 0.02818855, 0.02831588, 0.02798807,\n",
       "       0.02792743, 0.02770246, 0.02766213, 0.02800938, 0.02861786,\n",
       "       0.02939211, 0.02965544, 0.02981832, 0.03003523, 0.02989155,\n",
       "       0.02991761, 0.02991744, 0.02988987, 0.02972188, 0.02927591,\n",
       "       0.02931223, 0.02923192, 0.02938369, 0.02940898, 0.02965951,\n",
       "       0.02975373, 0.03055085, 0.0315454 , 0.03197556, 0.03171231,\n",
       "       0.0318561 , 0.03227876, 0.03151348, 0.031382  , 0.03118423,\n",
       "       0.0305518 , 0.02996447, 0.02938868, 0.02901708, 0.02846271,\n",
       "       0.02811332, 0.02787431, 0.02845244, 0.02915194, 0.02960797,\n",
       "       0.02979491, 0.03002757, 0.03049026, 0.03186254, 0.03217863])"
      ]
     },
     "execution_count": 7,
     "metadata": {},
     "output_type": "execute_result"
    }
   ],
   "source": [
    "y_pred[0]/1000"
   ]
  },
  {
   "cell_type": "code",
   "execution_count": 18,
   "metadata": {},
   "outputs": [
    {
     "data": {
      "text/plain": [
       "array([0.025733  , 0.02479542, 0.02658604, 0.02770169, 0.0267464 ,\n",
       "       0.02961096, 0.02842712, 0.02964672, 0.02976619, 0.02871642,\n",
       "       0.02786945, 0.02820771, 0.0287779 , 0.02884555, 0.02891708,\n",
       "       0.03076033, 0.03051078, 0.03038514, 0.03158448, 0.03157462,\n",
       "       0.03072883, 0.03131024, 0.031421  , 0.03221071, 0.03077694,\n",
       "       0.03038606, 0.03013936, 0.02993738, 0.02989026, 0.03004852,\n",
       "       0.03047293, 0.03139039, 0.0335306 , 0.03278215, 0.03314133,\n",
       "       0.03398833, 0.03412612, 0.03320707, 0.03306318, 0.03315094,\n",
       "       0.03187246, 0.03135222, 0.03044831, 0.03009218, 0.02992709,\n",
       "       0.02907528, 0.02827338, 0.02923893, 0.03042822, 0.03078068,\n",
       "       0.03071253, 0.03064258, 0.03053325, 0.0339225 , 0.03392957])"
      ]
     },
     "execution_count": 18,
     "metadata": {},
     "output_type": "execute_result"
    }
   ],
   "source": [
    "y_pred[0]/1000"
   ]
  },
  {
   "cell_type": "code",
   "execution_count": 8,
   "metadata": {},
   "outputs": [
    {
     "data": {
      "text/plain": [
       "array([0.02525634, 0.02498696, 0.0262715 , 0.02767223, 0.0267895 ,\n",
       "       0.02890144, 0.02807688, 0.02877523, 0.02892782, 0.02859638,\n",
       "       0.02853819, 0.02833187, 0.02829965, 0.02863769, 0.0292385 ,\n",
       "       0.03000993, 0.03027161, 0.03041561, 0.03063943, 0.03048063,\n",
       "       0.03051878, 0.03047883, 0.03044372, 0.0303267 , 0.02987525,\n",
       "       0.02988464, 0.02983063, 0.02995295, 0.02997676, 0.03022683,\n",
       "       0.03034931, 0.03115722, 0.03217307, 0.03259146, 0.03231491,\n",
       "       0.03246097, 0.0328616 , 0.03213778, 0.03202484, 0.03180712,\n",
       "       0.03117361, 0.03058726, 0.03001251, 0.02963211, 0.02907903,\n",
       "       0.0287173 , 0.02849134, 0.0290767 , 0.02974649, 0.03019168,\n",
       "       0.03036852, 0.0306168 , 0.03104258, 0.03243731, 0.03276543])"
      ]
     },
     "execution_count": 8,
     "metadata": {},
     "output_type": "execute_result"
    }
   ],
   "source": [
    "y_pred[3]/1000"
   ]
  },
  {
   "cell_type": "code",
   "execution_count": 15,
   "metadata": {},
   "outputs": [
    {
     "data": {
      "text/plain": [
       "array([0.0270002 , 0.02639712, 0.02874242, 0.02943925, 0.02871528,\n",
       "       0.03052872, 0.03082804, 0.03063677, 0.03113715, 0.03140564,\n",
       "       0.03013091, 0.02996918, 0.03061048, 0.03113706, 0.03071937,\n",
       "       0.03252496, 0.03193306, 0.03362761, 0.03282245, 0.03283552,\n",
       "       0.03332335, 0.03236671, 0.03133969, 0.03170753, 0.03123524,\n",
       "       0.03161856, 0.03176361, 0.03256135, 0.03217753, 0.03235571,\n",
       "       0.03348286, 0.03136197, 0.03288736, 0.03413517, 0.03367416,\n",
       "       0.03439772, 0.03460519, 0.03478727, 0.03369971, 0.03321015,\n",
       "       0.03334809, 0.03266559, 0.03199422, 0.03179482, 0.03079639,\n",
       "       0.02970411, 0.03007845, 0.03060967, 0.03236498, 0.03155456,\n",
       "       0.03331548, 0.03260794, 0.03219257, 0.03385628, 0.03642869],\n",
       "      dtype=float32)"
      ]
     },
     "execution_count": 15,
     "metadata": {},
     "output_type": "execute_result"
    }
   ],
   "source": [
    "y_hat[3]"
   ]
  },
  {
   "cell_type": "code",
   "execution_count": 20,
   "metadata": {},
   "outputs": [
    {
     "data": {
      "text/plain": [
       "array([ 0.04079049,  0.04206259, -0.02532413,  0.04489562,  0.02200453,\n",
       "        0.03514845,  0.04327484,  0.04331911, -0.00113715,  0.0042902 ,\n",
       "        0.04853427, -0.02700574,  0.04812065,  0.04199698, -0.01725069,\n",
       "        0.03753296,  0.03982874, -0.02801515,  0.04141027,  0.04397069,\n",
       "        0.03302779,  0.04330856, -0.01416363,  0.04726627,  0.04548471,\n",
       "       -0.00204915,  0.01693093, -0.00690864,  0.04350819,  0.03405834,\n",
       "        0.03924991, -0.01052146,  0.01962725,  0.04738668,  0.03455918,\n",
       "        0.04179896,  0.03622829,  0.04073269,  0.04255065,  0.04057885,\n",
       "        0.04466077, -0.02235563,  0.0458311 ,  0.03242953, -0.02721148,\n",
       "        0.03461524, -0.01019617,  0.04747473,  0.04328866,  0.02407221,\n",
       "       -0.01771915,  0.03646575,  0.04594073,  0.05187313,  0.03715964],\n",
       "      dtype=float32)"
      ]
     },
     "execution_count": 20,
     "metadata": {},
     "output_type": "execute_result"
    }
   ],
   "source": [
    "y_hat[30]"
   ]
  },
  {
   "cell_type": "code",
   "execution_count": 8,
   "metadata": {},
   "outputs": [],
   "source": [
    "np.savetxt('./sub/sub_21.csv', y_pred/1000)"
   ]
  },
  {
   "cell_type": "code",
   "execution_count": null,
   "metadata": {},
   "outputs": [],
   "source": []
  }
 ],
 "metadata": {
  "kernelspec": {
   "display_name": "Python 3",
   "language": "python",
   "name": "python3"
  },
  "language_info": {
   "codemirror_mode": {
    "name": "ipython",
    "version": 3
   },
   "file_extension": ".py",
   "mimetype": "text/x-python",
   "name": "python",
   "nbconvert_exporter": "python",
   "pygments_lexer": "ipython3",
   "version": "3.5.3"
  }
 },
 "nbformat": 4,
 "nbformat_minor": 2
}
